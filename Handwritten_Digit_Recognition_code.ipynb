{
  "nbformat": 4,
  "nbformat_minor": 0,
  "metadata": {
    "colab": {
      "name": "Handwritten Digit Recognition.ipynb",
      "provenance": [],
      "collapsed_sections": []
    },
    "kernelspec": {
      "name": "python3",
      "display_name": "Python 3"
    },
    "accelerator": "GPU"
  },
  "cells": [
    {
      "cell_type": "markdown",
      "metadata": {
        "id": "K3LHAHbLMxw7"
      },
      "source": [
        "Installing missing library"
      ]
    },
    {
      "cell_type": "code",
      "metadata": {
        "colab": {
          "base_uri": "https://localhost:8080/"
        },
        "id": "uFDVeOeRMuo6",
        "outputId": "3d15801c-6d39-450d-de21-b852333970e4"
      },
      "source": [
        "!pip install git+https://github.com/Lasagne/Lasagne"
      ],
      "execution_count": 1,
      "outputs": [
        {
          "output_type": "stream",
          "text": [
            "Collecting git+https://github.com/Lasagne/Lasagne\n",
            "  Cloning https://github.com/Lasagne/Lasagne to /tmp/pip-req-build-tvg9ws48\n",
            "  Running command git clone -q https://github.com/Lasagne/Lasagne /tmp/pip-req-build-tvg9ws48\n",
            "Requirement already satisfied: numpy in /usr/local/lib/python3.6/dist-packages (from Lasagne==0.2.dev1) (1.18.5)\n",
            "Building wheels for collected packages: Lasagne\n",
            "  Building wheel for Lasagne (setup.py) ... \u001b[?25l\u001b[?25hdone\n",
            "  Created wheel for Lasagne: filename=Lasagne-0.2.dev1-cp36-none-any.whl size=122797 sha256=6a1ca2a880948c20a2a0ed49a321dec042c3001ce353de7cddbdd1981e6ab1e8\n",
            "  Stored in directory: /tmp/pip-ephem-wheel-cache-ka248z8g/wheels/c4/20/90/9f7242c381402829c5918261e3eb51a87bc1d8521456749b57\n",
            "Successfully built Lasagne\n",
            "Installing collected packages: Lasagne\n",
            "Successfully installed Lasagne-0.2.dev1\n"
          ],
          "name": "stdout"
        }
      ]
    },
    {
      "cell_type": "markdown",
      "metadata": {
        "id": "2D51hoZZM7aS"
      },
      "source": [
        "Importing required standard libraries"
      ]
    },
    {
      "cell_type": "code",
      "metadata": {
        "id": "LFrsNHvhNTVB"
      },
      "source": [
        "import numpy as np #supports mathematical array operations\n",
        "import os #file management\n",
        "import gzip #archived file operations\n",
        "import matplotlib.pyplot as plt #plotting capabilitites\n",
        "from urllib.request import urlretrieve #downloading from url"
      ],
      "execution_count": 2,
      "outputs": []
    },
    {
      "cell_type": "markdown",
      "metadata": {
        "id": "BEhytYT8NW-p"
      },
      "source": [
        "Defining a download function which will store the dataset on the local drive and load them into the respective variables"
      ]
    },
    {
      "cell_type": "code",
      "metadata": {
        "id": "0y5ynn47OHjS"
      },
      "source": [
        "#Defining a download function which will store the dataset on the local drive\n",
        "def load():\n",
        "    def download(fn, source='http://yann.lecun.com/exdb/mnist/'):\n",
        "        print (\"Downloading \",fn)\n",
        "        urlretrieve(source+fn,fn)\n",
        "\n",
        "#function to download missing images\n",
        "    def load_images(fn):\n",
        "        if not os.path.exists(fn): #checking whether the file is missing\n",
        "            download(fn)         \n",
        "        with gzip.open(fn,'rb') as f: #extracting compressed file  \n",
        "            data=np.frombuffer(f.read(), np.uint8, offset=16)\n",
        "            data=data.reshape(-1,1,28,28) #reshaping the elements into a single array of 28x28 pixels\n",
        "            return data/np.float32(256) #converting them into float\n",
        "\n",
        "#function to download missing labels      \n",
        "    def load_labels(fn):\n",
        "        if not os.path.exists(fn):\n",
        "            download(fn)\n",
        "        with gzip.open(fn,'rb') as f:\n",
        "            data = np.frombuffer(f.read(),np.uint8,offset=8)\n",
        "        return data\n",
        "\n",
        "#calling the sub-function with the filenames and loading the data into respective variables    \n",
        "    X_train = load_images('train-images-idx3-ubyte.gz')\n",
        "    y_train = load_labels('train-labels-idx1-ubyte.gz')\n",
        "    X_test = load_images('t10k-images-idx3-ubyte.gz')\n",
        "    y_test = load_labels('t10k-labels-idx1-ubyte.gz')\n",
        "    \n",
        "    return X_train, y_train, X_test, y_test\n"
      ],
      "execution_count": 3,
      "outputs": []
    },
    {
      "cell_type": "markdown",
      "metadata": {
        "id": "N_N6zpEQPaFT"
      },
      "source": [
        "Initialising the download function"
      ]
    },
    {
      "cell_type": "code",
      "metadata": {
        "colab": {
          "base_uri": "https://localhost:8080/"
        },
        "id": "oqsSKQ82Pd0z",
        "outputId": "6022e167-cd39-4656-c987-5c5471476d1d"
      },
      "source": [
        "X_train, y_train, X_test, y_test = load()"
      ],
      "execution_count": 4,
      "outputs": [
        {
          "output_type": "stream",
          "text": [
            "Downloading  train-images-idx3-ubyte.gz\n",
            "Downloading  train-labels-idx1-ubyte.gz\n",
            "Downloading  t10k-images-idx3-ubyte.gz\n",
            "Downloading  t10k-labels-idx1-ubyte.gz\n"
          ],
          "name": "stdout"
        }
      ]
    },
    {
      "cell_type": "markdown",
      "metadata": {
        "id": "c-qLY_ppPimS"
      },
      "source": [
        "Pre-viewing sample data"
      ]
    },
    {
      "cell_type": "code",
      "metadata": {
        "id": "XxdkeuwA2lXJ",
        "colab": {
          "base_uri": "https://localhost:8080/",
          "height": 546
        },
        "outputId": "3facd7b2-cd29-48e1-e0b0-1168b616e7ec"
      },
      "source": [
        "plt.show(plt.imshow(X_train[1][0])) #1st training image\n",
        "plt.show(plt.imshow(X_test[6][0]))  #6th testing image\n",
        "print('label training:'+str(y_train[1])) #1st training label\n",
        "print('label test:'+str(y_test[6]))      #6th testing label\n"
      ],
      "execution_count": 5,
      "outputs": [
        {
          "output_type": "display_data",
          "data": {
            "image/png": "[encoded data removed]",
            "text/plain": [
              "<Figure size 432x288 with 1 Axes>"
            ]
          },
          "metadata": {
            "tags": [],
            "needs_background": "light"
          }
        },
        {
          "output_type": "display_data",
          "data": {
            "image/png": "[encoded data removed]",
            "text/plain": [
              "<Figure size 432x288 with 1 Axes>"
            ]
          },
          "metadata": {
            "tags": [],
            "needs_background": "light"
          }
        },
        {
          "output_type": "stream",
          "text": [
            "label training:0\n",
            "label test:4\n"
          ],
          "name": "stdout"
        }
      ]
    },
    {
      "cell_type": "markdown",
      "metadata": {
        "id": "5R3RgI5QUxmF"
      },
      "source": [
        "Setting up a neural network"
      ]
    },
    {
      "cell_type": "code",
      "metadata": {
        "id": "5_ImW-txU4rD"
      },
      "source": [
        "import lasagne #facilitates network building\n",
        "\n",
        "import theano \n",
        "import theano.tensor as T #supports higher dimensional array operations(Tensors)"
      ],
      "execution_count": 6,
      "outputs": []
    },
    {
      "cell_type": "markdown",
      "metadata": {
        "id": "vC765_CUVTmy"
      },
      "source": [
        "Defining a neural network"
      ]
    },
    {
      "cell_type": "code",
      "metadata": {
        "id": "TJl4_i7QVYwj"
      },
      "source": [
        "def NN(in_var=None):\n",
        "    l_input = lasagne.layers.InputLayer(shape=(None,1,28,28),input_var=in_var) #input layer with the predefined shapes and input variable\n",
        "    l_input_drop = lasagne.layers.DropoutLayer(l_input,p=0.2) #dropping out 20% of outer edges from input layer\n",
        "    l_hidden1= lasagne.layers.DenseLayer(l_input_drop,num_units=800,\n",
        "                                      nonlinearity=lasagne.nonlinearities.rectify,\n",
        "                                      W=lasagne.init.GlorotUniform()) #first hidden layer with 800 nodes using Glorot's Scheme\n",
        "    l_hidden1_drop = lasagne.layers.DropoutLayer(l_hidden1,p=0.5) \n",
        "    l_hidden2= lasagne.layers.DenseLayer(l_hidden1_drop,num_units=800,\n",
        "                                      nonlinearity=lasagne.nonlinearities.rectify,\n",
        "                                      W=lasagne.init.GlorotUniform()) #second hidden layer similar to the first\n",
        "    l_hidden2_drop = lasagne.layers.DropoutLayer(l_hidden2,p=0.5) #Drop out layer of 50%\n",
        "    l_output = lasagne.layers.DenseLayer(l_hidden2_drop, num_units=10,\n",
        "                                     nonlinearity = lasagne.nonlinearities.softmax) #output layer with 10 units of range [0-1] with the max of them being the predicted value\n",
        "    return l_output #returning the last layer thus effectively calling the entire neural network as they are linked"
      ],
      "execution_count": 8,
      "outputs": []
    },
    {
      "cell_type": "markdown",
      "metadata": {
        "id": "zNzRJwiGX9ck"
      },
      "source": [
        "Defining placeholder arrays for training/test data"
      ]
    },
    {
      "cell_type": "code",
      "metadata": {
        "id": "SEX14UVLYMy7"
      },
      "source": [
        "in_var = T.tensor4('inputs') # An empty 4 dimensional array \n",
        "tar_var = T.ivector('targets') # An empty 1-D integer array to representing the labels "
      ],
      "execution_count": 13,
      "outputs": []
    },
    {
      "cell_type": "markdown",
      "metadata": {
        "id": "8Haq-evzYbGD"
      },
      "source": [
        "Calling the function that initializes the neural network "
      ]
    },
    {
      "cell_type": "code",
      "metadata": {
        "id": "PBJNdwaJYZNr"
      },
      "source": [
        "network=NN(in_var) "
      ],
      "execution_count": 14,
      "outputs": []
    },
    {
      "cell_type": "markdown",
      "metadata": {
        "id": "7TuhDPLLas1D"
      },
      "source": [
        "Training function"
      ]
    },
    {
      "cell_type": "code",
      "metadata": {
        "id": "7IE-1JE3aFFM"
      },
      "source": [
        "pred = lasagne.layers.get_output(network) #error function\n",
        "loss = lasagne.objectives.categorical_crossentropy(pred, tar_var) #calculating loss value using categorical crossentropy\n",
        "loss = loss.mean() #taking its mean\n",
        "params = lasagne.layers.get_all_params(network, trainable=True) # Current value of all the weights \n",
        "upd = lasagne.updates.nesterov_momentum(loss, params, learning_rate=0.01, momentum = 0.9) #evaluating update values using nesterov momentum\n",
        "tr_fn = theano.function([in_var, tar_var], loss, updates=upd) #theano function to define training by updating weights"
      ],
      "execution_count": 15,
      "outputs": []
    },
    {
      "cell_type": "markdown",
      "metadata": {
        "id": "QsCUeXP6r2-E"
      },
      "source": [
        "Feeding training data to the network"
      ]
    },
    {
      "cell_type": "code",
      "metadata": {
        "colab": {
          "base_uri": "https://localhost:8080/"
        },
        "id": "ffOsop4kr_M7",
        "outputId": "d769a413-b8f0-4056-a974-653e2fd48ad1"
      },
      "source": [
        "steps = 5 # 100 steps ideally\n",
        "\n",
        "for step in range(steps):\n",
        "    tr_err = tr_fn(X_train, y_train)\n",
        "    print(\"Current step is \"+ str(step))"
      ],
      "execution_count": 26,
      "outputs": [
        {
          "output_type": "stream",
          "text": [
            "Current step is 0\n",
            "Current step is 1\n",
            "Current step is 2\n",
            "Current step is 3\n",
            "Current step is 4\n"
          ],
          "name": "stdout"
        }
      ]
    },
    {
      "cell_type": "markdown",
      "metadata": {
        "id": "3mXtJJFrsMiL"
      },
      "source": [
        "Checking output for a single image and its label to check whether the model works"
      ]
    },
    {
      "cell_type": "code",
      "metadata": {
        "colab": {
          "base_uri": "https://localhost:8080/"
        },
        "id": "q6LVmVEssfcK",
        "outputId": "8ebe147e-b7d0-45a3-c96e-77873a4698b7"
      },
      "source": [
        "tst_pred = lasagne.layers.get_output(network)\n",
        "val_fn = theano.function([in_var],tst_pred)\n",
        "\n",
        "val_fn([X_test[10]]) #testing the 10th image"
      ],
      "execution_count": 28,
      "outputs": [
        {
          "output_type": "execute_result",
          "data": {
            "text/plain": [
              "array([[0.43921195, 0.00762011, 0.14994476, 0.13336409, 0.02460235,\n",
              "        0.11941577, 0.03187808, 0.00290689, 0.08646837, 0.00458763]])"
            ]
          },
          "metadata": {
            "tags": []
          },
          "execution_count": 28
        }
      ]
    },
    {
      "cell_type": "code",
      "metadata": {
        "colab": {
          "base_uri": "https://localhost:8080/"
        },
        "id": "RFZxuiJZt4Rr",
        "outputId": "1b02cb03-8ca8-4135-ad99-18953fcaa1ea"
      },
      "source": [
        "y_test[10] #checking the 10 label"
      ],
      "execution_count": 21,
      "outputs": [
        {
          "output_type": "execute_result",
          "data": {
            "text/plain": [
              "0"
            ]
          },
          "metadata": {
            "tags": []
          },
          "execution_count": 21
        }
      ]
    },
    {
      "cell_type": "markdown",
      "metadata": {
        "id": "O9Vct5JBtO22"
      },
      "source": [
        "Feeding entire data to the network and calculating it's accuracy"
      ]
    },
    {
      "cell_type": "code",
      "metadata": {
        "colab": {
          "base_uri": "https://localhost:8080/"
        },
        "id": "d6I4SsJSuUiA",
        "outputId": "8db4d0b4-ff78-4b93-8739-3d104a393364"
      },
      "source": [
        "tst_pred = lasagne.layers.get_output(network,deterministic=True) #not cutting off edges for consitency in results\n",
        "test_acc = T.mean(T.eq(T.argmax(tst_pred, axis=1),tar_var),dtype=theano.config.floatX) #checking index of max value and compares it with actual label\n",
        "\n",
        "acc_fn = theano.function([in_var,tar_var],test_acc)\n",
        "\n",
        "acc_fn(X_test,y_test)"
      ],
      "execution_count": 29,
      "outputs": [
        {
          "output_type": "execute_result",
          "data": {
            "text/plain": [
              "array(0.8188)"
            ]
          },
          "metadata": {
            "tags": []
          },
          "execution_count": 29
        }
      ]
    }
  ]
}